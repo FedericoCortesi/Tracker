{
 "cells": [
  {
   "cell_type": "code",
   "execution_count": 1,
   "metadata": {},
   "outputs": [
    {
     "name": "stdout",
     "output_type": "stream",
     "text": [
      "\n",
      "The available subjects are: ['MFI', 'Valuation', 'IB']\n",
      "\n",
      "\n",
      "The available sessions are: ['Morning', 'Afternoon', 'Evening']\n",
      "\n",
      "Study session started at 23:43:58\n",
      "Studying for: 00:00:00        "
     ]
    }
   ],
   "source": [
    "from Logger import Logger\n",
    "\n",
    "logger = Logger()\n",
    "logger.start_session(subject=\"MFI\", session=\"Evening\")"
   ]
  },
  {
   "cell_type": "code",
   "execution_count": 2,
   "metadata": {},
   "outputs": [
    {
     "name": "stdout",
     "output_type": "stream",
     "text": [
      "Studying for: 00:00:04        "
     ]
    },
    {
     "ename": "KeyboardInterrupt",
     "evalue": "",
     "output_type": "error",
     "traceback": [
      "\u001b[1;31m---------------------------------------------------------------------------\u001b[0m",
      "\u001b[1;31mKeyboardInterrupt\u001b[0m                         Traceback (most recent call last)",
      "Cell \u001b[1;32mIn[2], line 2\u001b[0m\n\u001b[0;32m      1\u001b[0m \u001b[38;5;28;01mwhile\u001b[39;00m \u001b[38;5;28;01mTrue\u001b[39;00m:\n\u001b[1;32m----> 2\u001b[0m     \u001b[38;5;28;01mcontinue\u001b[39;00m\n",
      "\u001b[1;31mKeyboardInterrupt\u001b[0m: "
     ]
    }
   ],
   "source": [
    "while True:\n",
    "    continue"
   ]
  },
  {
   "cell_type": "code",
   "execution_count": 3,
   "metadata": {},
   "outputs": [
    {
     "name": "stdout",
     "output_type": "stream",
     "text": [
      "Study session ended at 23:44:04\n",
      "{'day': datetime.date(2025, 1, 13), 'start_time': datetime.datetime(2025, 1, 13, 23, 43, 58, 347850), 'end_time': datetime.datetime(2025, 1, 13, 23, 44, 4, 850052), 'total_time': datetime.timedelta(seconds=6, microseconds=502202), 'session': 'Evening', 'subject': 'MFI'}\n",
      "File saved at: ./Logs/study_sessions.csv\n"
     ]
    }
   ],
   "source": [
    "logger.end_session()"
   ]
  },
  {
   "cell_type": "code",
   "execution_count": 14,
   "metadata": {},
   "outputs": [
    {
     "name": "stdout",
     "output_type": "stream",
     "text": [
      "File saved at: ./Logs/study_sessions.csv\n",
      "Deleted: ./Logs/Cache\\log_23_26_03.csv\n"
     ]
    }
   ],
   "source": [
    "logger.export_cache()"
   ]
  },
  {
   "cell_type": "code",
   "execution_count": 6,
   "metadata": {},
   "outputs": [
    {
     "data": {
      "text/html": [
       "<div>\n",
       "<style scoped>\n",
       "    .dataframe tbody tr th:only-of-type {\n",
       "        vertical-align: middle;\n",
       "    }\n",
       "\n",
       "    .dataframe tbody tr th {\n",
       "        vertical-align: top;\n",
       "    }\n",
       "\n",
       "    .dataframe thead th {\n",
       "        text-align: right;\n",
       "    }\n",
       "</style>\n",
       "<table border=\"1\" class=\"dataframe\">\n",
       "  <thead>\n",
       "    <tr style=\"text-align: right;\">\n",
       "      <th></th>\n",
       "      <th>day</th>\n",
       "      <th>start_time</th>\n",
       "      <th>end_time</th>\n",
       "      <th>total_time</th>\n",
       "      <th>session</th>\n",
       "      <th>subject</th>\n",
       "    </tr>\n",
       "  </thead>\n",
       "  <tbody>\n",
       "    <tr>\n",
       "      <th>0</th>\n",
       "      <td>2025-01-11</td>\n",
       "      <td>2025-01-11 23:18:59.858956</td>\n",
       "      <td>2025-01-11 23:19:14.832056</td>\n",
       "      <td>0 days 00:00:14.973100</td>\n",
       "      <td>Evening</td>\n",
       "      <td>MFI</td>\n",
       "    </tr>\n",
       "  </tbody>\n",
       "</table>\n",
       "</div>"
      ],
      "text/plain": [
       "          day                  start_time                    end_time  \\\n",
       "0  2025-01-11  2025-01-11 23:18:59.858956  2025-01-11 23:19:14.832056   \n",
       "\n",
       "               total_time  session subject  \n",
       "0  0 days 00:00:14.973100  Evening     MFI  "
      ]
     },
     "execution_count": 6,
     "metadata": {},
     "output_type": "execute_result"
    }
   ],
   "source": [
    "import os\n",
    "import pandas as pd\n",
    "\n",
    "cache_df_names_list = os.listdir(\"./Logs/Cache\")\n",
    "\n",
    "cache_dfs = []\n",
    "\n",
    "for name in cache_df_names_list:\n",
    "    cache_dfs.append(pd.read_csv(f\"./Logs/Cache/{name}\"))\n",
    "\n",
    "df_out = pd.concat(cache_dfs, axis=0)\n",
    "\n",
    "df_out\n"
   ]
  },
  {
   "cell_type": "code",
   "execution_count": 6,
   "metadata": {},
   "outputs": [
    {
     "data": {
      "text/html": [
       "<div>\n",
       "<style scoped>\n",
       "    .dataframe tbody tr th:only-of-type {\n",
       "        vertical-align: middle;\n",
       "    }\n",
       "\n",
       "    .dataframe tbody tr th {\n",
       "        vertical-align: top;\n",
       "    }\n",
       "\n",
       "    .dataframe thead th {\n",
       "        text-align: right;\n",
       "    }\n",
       "</style>\n",
       "<table border=\"1\" class=\"dataframe\">\n",
       "  <thead>\n",
       "    <tr style=\"text-align: right;\">\n",
       "      <th></th>\n",
       "      <th>total_time</th>\n",
       "    </tr>\n",
       "    <tr>\n",
       "      <th>day</th>\n",
       "      <th></th>\n",
       "    </tr>\n",
       "  </thead>\n",
       "  <tbody>\n",
       "    <tr>\n",
       "      <th>2025-01-12</th>\n",
       "      <td>0 days 08:11:35.344571</td>\n",
       "    </tr>\n",
       "    <tr>\n",
       "      <th>2025-01-13</th>\n",
       "      <td>0 days 07:58:27.263957</td>\n",
       "    </tr>\n",
       "  </tbody>\n",
       "</table>\n",
       "</div>"
      ],
      "text/plain": [
       "                       total_time\n",
       "day                              \n",
       "2025-01-12 0 days 08:11:35.344571\n",
       "2025-01-13 0 days 07:58:27.263957"
      ]
     },
     "execution_count": 6,
     "metadata": {},
     "output_type": "execute_result"
    }
   ],
   "source": [
    "import pandas as pd\n",
    "\n",
    "df_ex = pd.read_csv(\"./Logs/study_sessions.csv\", index_col=0)\n",
    "df_ex['start_time'] = pd.to_datetime(df_ex['start_time'])\n",
    "df_ex['end_time'] = pd.to_datetime(df_ex['end_time'])\n",
    "df_ex['total_time'] = pd.to_timedelta(df_ex['total_time'])\n",
    "#df_ex\n",
    "df_ex.groupby([\"day\"]).agg({\"total_time\": \"sum\"})\n"
   ]
  },
  {
   "cell_type": "code",
   "execution_count": 8,
   "metadata": {},
   "outputs": [
    {
     "data": {
      "text/html": [
       "<div>\n",
       "<style scoped>\n",
       "    .dataframe tbody tr th:only-of-type {\n",
       "        vertical-align: middle;\n",
       "    }\n",
       "\n",
       "    .dataframe tbody tr th {\n",
       "        vertical-align: top;\n",
       "    }\n",
       "\n",
       "    .dataframe thead th {\n",
       "        text-align: right;\n",
       "    }\n",
       "</style>\n",
       "<table border=\"1\" class=\"dataframe\">\n",
       "  <thead>\n",
       "    <tr style=\"text-align: right;\">\n",
       "      <th>subject</th>\n",
       "      <th>MFI</th>\n",
       "      <th>Valuation</th>\n",
       "    </tr>\n",
       "    <tr>\n",
       "      <th>day</th>\n",
       "      <th></th>\n",
       "      <th></th>\n",
       "    </tr>\n",
       "  </thead>\n",
       "  <tbody>\n",
       "    <tr>\n",
       "      <th>2025-01-12</th>\n",
       "      <td>0 days 04:10:39.427286</td>\n",
       "      <td>0 days 04:00:55.917285</td>\n",
       "    </tr>\n",
       "    <tr>\n",
       "      <th>2025-01-13</th>\n",
       "      <td>0 days 02:35:55.740378</td>\n",
       "      <td>0 days 05:22:31.523579</td>\n",
       "    </tr>\n",
       "  </tbody>\n",
       "</table>\n",
       "</div>"
      ],
      "text/plain": [
       "subject                       MFI              Valuation\n",
       "day                                                     \n",
       "2025-01-12 0 days 04:10:39.427286 0 days 04:00:55.917285\n",
       "2025-01-13 0 days 02:35:55.740378 0 days 05:22:31.523579"
      ]
     },
     "execution_count": 8,
     "metadata": {},
     "output_type": "execute_result"
    }
   ],
   "source": [
    "df_ex.pivot_table(index=\"day\", columns=[\"subject\"], values=\"total_time\", aggfunc=\"sum\").fillna(pd.Timedelta(seconds=0))"
   ]
  }
 ],
 "metadata": {
  "kernelspec": {
   "display_name": "Python 3",
   "language": "python",
   "name": "python3"
  },
  "language_info": {
   "codemirror_mode": {
    "name": "ipython",
    "version": 3
   },
   "file_extension": ".py",
   "mimetype": "text/x-python",
   "name": "python",
   "nbconvert_exporter": "python",
   "pygments_lexer": "ipython3",
   "version": "3.11.1"
  }
 },
 "nbformat": 4,
 "nbformat_minor": 2
}
